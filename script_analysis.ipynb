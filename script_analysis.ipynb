{
 "cells": [
  {
   "cell_type": "code",
   "execution_count": 1,
   "metadata": {},
   "outputs": [],
   "source": [
    "import os\n",
    "import numpy as np\n",
    "import tensorflow as tf\n",
    "import matplotlib.pylab as plt\n",
    "from scipy.spatial.distance import cdist\n",
    "from tqdm.notebook import tqdm\n",
    "from scipy.special import softmax"
   ]
  },
  {
   "cell_type": "code",
   "execution_count": 2,
   "metadata": {},
   "outputs": [],
   "source": [
    "DEPTH_MULTIPLIER_PREFIX = '0'\n",
    "DEPTH_MULTIPLIER = 25\n",
    "IMAGE_SIZE = 128\n",
    "IMAGE_SHAPE = (IMAGE_SIZE, IMAGE_SIZE)\n",
    "BATCH_SIZE = 100\n",
    "NUM_EPOCHS = 20"
   ]
  },
  {
   "cell_type": "markdown",
   "metadata": {},
   "source": [
    "## **Load model & get feature extraction layer**"
   ]
  },
  {
   "cell_type": "code",
   "execution_count": 3,
   "metadata": {},
   "outputs": [],
   "source": [
    "model_name = 'mobilenet_v1_'+ DEPTH_MULTIPLIER_PREFIX + str(DEPTH_MULTIPLIER)+'_'+str(IMAGE_SIZE)+'_epochs_'+str(NUM_EPOCHS)\n",
    "model_path = 'models\\\\' + model_name\n",
    "model = tf.keras.models.load_model(model_path)"
   ]
  },
  {
   "cell_type": "code",
   "execution_count": 4,
   "metadata": {},
   "outputs": [
    {
     "name": "stdout",
     "output_type": "stream",
     "text": [
      "<tensorflow.python.keras.saving.saved_model.load.KerasLayer object at 0x000002BDE1880148>\n"
     ]
    }
   ],
   "source": [
    "#init feature extractor layer\n",
    "fel = model.layers[0]\n",
    "print(fel)"
   ]
  },
  {
   "cell_type": "markdown",
   "metadata": {},
   "source": [
    "## **Init paths**"
   ]
  },
  {
   "cell_type": "code",
   "execution_count": 5,
   "metadata": {},
   "outputs": [],
   "source": [
    "OUTPUT_FOLDER_NAME = \"outputs\"\n",
    "DATA_NAME = \"CIFAR_10\"\n",
    "OOD_DATA_NAME = \"svhn\"\n",
    "\n",
    "FEATURES_FOLDER = os.path.join(OUTPUT_FOLDER_NAME, \"features\")\n",
    "FEATURES_DATA_FOLDER = os.path.join(FEATURES_FOLDER, DATA_NAME)\n",
    "OOD_FEATURES_DATA_FOLDER = os.path.join(FEATURES_FOLDER, OOD_DATA_NAME)\n",
    "\n",
    "DISTS_FOLDER = os.path.join(OUTPUT_FOLDER_NAME, \"dists\")\n",
    "DISTS_DATA_FOLDER = os.path.join(DISTS_FOLDER, DATA_NAME)\n",
    "OOD_DISTS_DATA_FOLDER = os.path.join(DISTS_FOLDER, OOD_DATA_NAME)\n",
    "\n",
    "CLOSEST_CLASS_FOLDER = os.path.join(OUTPUT_FOLDER_NAME, \"closest_classes\")\n",
    "CLOSEST_CLASS_DATA_FOLDER = os.path.join(CLOSEST_CLASS_FOLDER, DATA_NAME)\n",
    "OOD_CLOSEST_CLASS_DATA_FOLDER = os.path.join(CLOSEST_CLASS_FOLDER, OOD_DATA_NAME)\n",
    "\n",
    "PROBABILITIES_FOLDER = os.path.join(OUTPUT_FOLDER_NAME, \"probabilities\")\n",
    "PROBABILITIES_DATA_FOLDER = os.path.join(PROBABILITIES_FOLDER, DATA_NAME)\n",
    "OOD_PROBABILITIES_DATA_FOLDER = os.path.join(PROBABILITIES_FOLDER, OOD_DATA_NAME)\n",
    "\n",
    "LABELS_FOLDER = os.path.join(OUTPUT_FOLDER_NAME, \"labels\")\n",
    "LABELS_DATA_FOLDER = os.path.join(LABELS_FOLDER, DATA_NAME)\n",
    "\n",
    "MEANS_FOLDER = os.path.join(OUTPUT_FOLDER_NAME, \"means\")\n",
    "MEANS_DATA_FOLDER = os.path.join(MEANS_FOLDER, DATA_NAME)    \n",
    "\n",
    "RADIUS_FOLDER = os.path.join(OUTPUT_FOLDER_NAME, \"radius\")\n",
    "RADIUS_DATA_FOLDER = os.path.join(RADIUS_FOLDER, DATA_NAME)"
   ]
  },
  {
   "cell_type": "markdown",
   "metadata": {},
   "source": [
    "## **Load in-distribution data**"
   ]
  },
  {
   "cell_type": "code",
   "execution_count": 6,
   "metadata": {},
   "outputs": [
    {
     "name": "stdout",
     "output_type": "stream",
     "text": [
      "10\n"
     ]
    }
   ],
   "source": [
    "class_names = ['Airplane', 'Automobile', 'Bird', 'Cat', 'Deer', 'Dog', 'Frog', 'Horse', 'Ship', 'Truck']\n",
    "TOTAL_CLASSES = len(class_names)\n",
    "print(TOTAL_CLASSES)"
   ]
  },
  {
   "cell_type": "code",
   "execution_count": 7,
   "metadata": {},
   "outputs": [
    {
     "name": "stdout",
     "output_type": "stream",
     "text": [
      "(10, 5000, 256)\n"
     ]
    }
   ],
   "source": [
    "#load train features\n",
    "CIFAR_10_train_features = [None] * 10\n",
    "for i in range(TOTAL_CLASSES):\n",
    "    save_name = \"{0}_train_features_with_{1}_samples.npy\".format(class_names[i], 5000)\n",
    "    save_location = os.path.join(FEATURES_DATA_FOLDER, save_name)\n",
    "    CIFAR_10_train_features[i]= np.load(save_location)\n",
    "CIFAR_10_train_features = np.asarray(CIFAR_10_train_features)\n",
    "print(CIFAR_10_train_features.shape)"
   ]
  },
  {
   "cell_type": "code",
   "execution_count": 8,
   "metadata": {},
   "outputs": [
    {
     "name": "stdout",
     "output_type": "stream",
     "text": [
      "(10, 1000, 256)\n"
     ]
    }
   ],
   "source": [
    "#load validation features\n",
    "CIFAR_10_validation_features = [None] * 10\n",
    "for i in range(TOTAL_CLASSES):\n",
    "    save_name = \"{0}_validation_features_with_{1}_samples.npy\".format(class_names[i], 1000)\n",
    "    save_location = os.path.join(FEATURES_DATA_FOLDER, save_name)\n",
    "    CIFAR_10_validation_features[i]= np.load(save_location)\n",
    "CIFAR_10_validation_features = np.asarray(CIFAR_10_validation_features)\n",
    "print(CIFAR_10_validation_features.shape)"
   ]
  },
  {
   "cell_type": "code",
   "execution_count": 9,
   "metadata": {},
   "outputs": [
    {
     "name": "stdout",
     "output_type": "stream",
     "text": [
      "(10, 256)\n"
     ]
    }
   ],
   "source": [
    "#load class means\n",
    "save_name = \"CIFAR_10_class_means.npy\"\n",
    "save_location = os.path.join(MEANS_DATA_FOLDER, save_name)\n",
    "class_means = np.load(save_location)\n",
    "print(class_means.shape)"
   ]
  },
  {
   "cell_type": "code",
   "execution_count": 10,
   "metadata": {},
   "outputs": [
    {
     "name": "stdout",
     "output_type": "stream",
     "text": [
      "(10,)\n"
     ]
    }
   ],
   "source": [
    "#load class radii\n",
    "save_name = \"CIFAR_10_class_radii.npy\"\n",
    "save_location = os.path.join(RADIUS_DATA_FOLDER, save_name)\n",
    "class_radii = np.load(save_location)\n",
    "print(class_radii.shape)"
   ]
  },
  {
   "cell_type": "code",
   "execution_count": 11,
   "metadata": {},
   "outputs": [
    {
     "name": "stdout",
     "output_type": "stream",
     "text": [
      "(10, 5000)\n",
      "(10, 5000)\n"
     ]
    }
   ],
   "source": [
    "#load train distances & closest classes\n",
    "CIFAR_10_train_distances = [None] * 10\n",
    "CIFAR_10_train_closest_classes = [None] * 10\n",
    "for i in range(TOTAL_CLASSES):\n",
    "    #load distances\n",
    "    save_name = \"{0}_train_distances_with_{1}_samples.npy\".format(class_names[i], 5000)\n",
    "    save_location = os.path.join(DISTS_DATA_FOLDER, save_name)\n",
    "    CIFAR_10_train_distances[i]= np.load(save_location)\n",
    "    #load closest classes\n",
    "    save_name = \"{0}_train_closest_classes_with_{1}_samples.npy\".format(class_names[i], 5000)\n",
    "    save_location = os.path.join(CLOSEST_CLASS_DATA_FOLDER, save_name)\n",
    "    CIFAR_10_train_closest_classes[i]= np.load(save_location)\n",
    "CIFAR_10_train_distances = np.asarray(CIFAR_10_train_distances)\n",
    "CIFAR_10_train_closest_classes = np.asarray(CIFAR_10_train_closest_classes)\n",
    "print(CIFAR_10_train_distances.shape)\n",
    "print(CIFAR_10_train_closest_classes.shape)"
   ]
  },
  {
   "cell_type": "code",
   "execution_count": 12,
   "metadata": {},
   "outputs": [
    {
     "name": "stdout",
     "output_type": "stream",
     "text": [
      "(10, 1000)\n",
      "(10, 1000)\n"
     ]
    }
   ],
   "source": [
    "#load validation distances & closest classes\n",
    "CIFAR_10_validation_distances = [None] * 10\n",
    "CIFAR_10_validation_closest_classes = [None] * 10\n",
    "for i in range(TOTAL_CLASSES):\n",
    "    #load distances\n",
    "    save_name = \"{0}_validation_distances_with_{1}_samples.npy\".format(class_names[i], 1000)\n",
    "    save_location = os.path.join(DISTS_DATA_FOLDER, save_name)\n",
    "    CIFAR_10_validation_distances[i]= np.load(save_location)\n",
    "    #load closest classes\n",
    "    save_name = \"{0}_validation_closest_classes_with_{1}_samples.npy\".format(class_names[i], 1000)\n",
    "    save_location = os.path.join(CLOSEST_CLASS_DATA_FOLDER, save_name)\n",
    "    CIFAR_10_validation_closest_classes[i]= np.load(save_location)\n",
    "CIFAR_10_validation_distances = np.asarray(CIFAR_10_validation_distances)\n",
    "CIFAR_10_validation_closest_classes = np.asarray(CIFAR_10_validation_closest_classes)\n",
    "print(CIFAR_10_validation_distances.shape)\n",
    "print(CIFAR_10_validation_closest_classes.shape)"
   ]
  },
  {
   "cell_type": "markdown",
   "metadata": {},
   "source": [
    "## **Load out-distribution data**"
   ]
  },
  {
   "cell_type": "code",
   "execution_count": 13,
   "metadata": {},
   "outputs": [
    {
     "name": "stdout",
     "output_type": "stream",
     "text": [
      "(13068, 256)\n"
     ]
    }
   ],
   "source": [
    "#load svhn features\n",
    "save_name = \"{0}_features_with_{1}_samples.npy\".format(OOD_DATA_NAME, 13068)\n",
    "save_location =  os.path.join(OOD_FEATURES_DATA_FOLDER, save_name)\n",
    "svhn_features = np.load(save_location)\n",
    "print(svhn_features.shape)"
   ]
  },
  {
   "cell_type": "code",
   "execution_count": 14,
   "metadata": {},
   "outputs": [
    {
     "name": "stdout",
     "output_type": "stream",
     "text": [
      "(13068,)\n"
     ]
    }
   ],
   "source": [
    "#load svhn distances\n",
    "save_name = \"{0}_distances_with_{1}_samples.npy\".format(OOD_DATA_NAME, 13068)\n",
    "save_location =  os.path.join(OOD_DISTS_DATA_FOLDER, save_name)\n",
    "svhn_distances = np.load(save_location)\n",
    "print(svhn_distances.shape)"
   ]
  },
  {
   "cell_type": "code",
   "execution_count": 15,
   "metadata": {},
   "outputs": [
    {
     "name": "stdout",
     "output_type": "stream",
     "text": [
      "(13068,)\n"
     ]
    }
   ],
   "source": [
    "#load svhn closest classes\n",
    "save_name = \"{0}_closest_classes_with_{1}_samples.npy\".format(OOD_DATA_NAME, 13068)\n",
    "save_location =  os.path.join(OOD_CLOSEST_CLASS_DATA_FOLDER, save_name)\n",
    "svhn_closest_classes = np.load(save_location)\n",
    "print(svhn_closest_classes.shape)"
   ]
  }
 ],
 "metadata": {
  "kernelspec": {
   "display_name": "Python 3",
   "language": "python",
   "name": "python3"
  },
  "language_info": {
   "codemirror_mode": {
    "name": "ipython",
    "version": 3
   },
   "file_extension": ".py",
   "mimetype": "text/x-python",
   "name": "python",
   "nbconvert_exporter": "python",
   "pygments_lexer": "ipython3",
   "version": "3.7.6"
  }
 },
 "nbformat": 4,
 "nbformat_minor": 2
}
