{
 "cells": [
  {
   "cell_type": "code",
   "execution_count": 1,
   "metadata": {},
   "outputs": [],
   "source": [
    "import os\n",
    "import numpy as np\n",
    "import tensorflow as tf\n",
    "import matplotlib.pylab as plt\n",
    "from scipy.spatial.distance import cdist\n",
    "from tqdm.notebook import tqdm\n",
    "from scipy.special import softmax\n",
    "from sklearn import metrics"
   ]
  },
  {
   "cell_type": "code",
   "execution_count": 2,
   "metadata": {},
   "outputs": [],
   "source": [
    "DEPTH_MULTIPLIER_PREFIX = '0'\n",
    "DEPTH_MULTIPLIER = 25\n",
    "IMAGE_SIZE = 128\n",
    "IMAGE_SHAPE = (IMAGE_SIZE, IMAGE_SIZE)\n",
    "BATCH_SIZE = 100\n",
    "NUM_EPOCHS = 20"
   ]
  },
  {
   "cell_type": "markdown",
   "metadata": {},
   "source": [
    "## **Load model & get feature extraction layer**"
   ]
  },
  {
   "cell_type": "code",
   "execution_count": 3,
   "metadata": {},
   "outputs": [],
   "source": [
    "model_name = 'mobilenet_v1_'+ DEPTH_MULTIPLIER_PREFIX + str(DEPTH_MULTIPLIER)+'_'+str(IMAGE_SIZE)+'_epochs_'+str(NUM_EPOCHS)\n",
    "model_path = 'models\\\\' + model_name\n",
    "model = tf.keras.models.load_model(model_path)"
   ]
  },
  {
   "cell_type": "code",
   "execution_count": 4,
   "metadata": {},
   "outputs": [
    {
     "name": "stdout",
     "output_type": "stream",
     "text": [
      "<tensorflow.python.keras.saving.saved_model.load.KerasLayer object at 0x00000214419C0388>\n"
     ]
    }
   ],
   "source": [
    "#init feature extractor layer\n",
    "fel = model.layers[0]\n",
    "print(fel)"
   ]
  },
  {
   "cell_type": "markdown",
   "metadata": {},
   "source": [
    "## **Init paths**"
   ]
  },
  {
   "cell_type": "code",
   "execution_count": 5,
   "metadata": {},
   "outputs": [],
   "source": [
    "OUTPUT_FOLDER_NAME = \"outputs\"\n",
    "DATA_NAME = \"CIFAR_10\"\n",
    "OOD_DATA_NAME = \"svhn\"\n",
    "\n",
    "FEATURES_FOLDER = os.path.join(OUTPUT_FOLDER_NAME, \"features\")\n",
    "FEATURES_DATA_FOLDER = os.path.join(FEATURES_FOLDER, DATA_NAME)\n",
    "OOD_FEATURES_DATA_FOLDER = os.path.join(FEATURES_FOLDER, OOD_DATA_NAME)\n",
    "\n",
    "DISTS_FOLDER = os.path.join(OUTPUT_FOLDER_NAME, \"dists\")\n",
    "DISTS_DATA_FOLDER = os.path.join(DISTS_FOLDER, DATA_NAME)\n",
    "OOD_DISTS_DATA_FOLDER = os.path.join(DISTS_FOLDER, OOD_DATA_NAME)\n",
    "\n",
    "CLOSEST_CLASS_FOLDER = os.path.join(OUTPUT_FOLDER_NAME, \"closest_classes\")\n",
    "CLOSEST_CLASS_DATA_FOLDER = os.path.join(CLOSEST_CLASS_FOLDER, DATA_NAME)\n",
    "OOD_CLOSEST_CLASS_DATA_FOLDER = os.path.join(CLOSEST_CLASS_FOLDER, OOD_DATA_NAME)\n",
    "\n",
    "PROBABILITIES_FOLDER = os.path.join(OUTPUT_FOLDER_NAME, \"probabilities\")\n",
    "PROBABILITIES_DATA_FOLDER = os.path.join(PROBABILITIES_FOLDER, DATA_NAME)\n",
    "OOD_PROBABILITIES_DATA_FOLDER = os.path.join(PROBABILITIES_FOLDER, OOD_DATA_NAME)\n",
    "\n",
    "LABELS_FOLDER = os.path.join(OUTPUT_FOLDER_NAME, \"labels\")\n",
    "LABELS_DATA_FOLDER = os.path.join(LABELS_FOLDER, DATA_NAME)\n",
    "\n",
    "MEANS_FOLDER = os.path.join(OUTPUT_FOLDER_NAME, \"means\")\n",
    "MEANS_DATA_FOLDER = os.path.join(MEANS_FOLDER, DATA_NAME)    \n",
    "\n",
    "RADIUS_FOLDER = os.path.join(OUTPUT_FOLDER_NAME, \"radius\")\n",
    "RADIUS_DATA_FOLDER = os.path.join(RADIUS_FOLDER, DATA_NAME)\n",
    "\n",
    "SCORES_FOLDER = os.path.join(OUTPUT_FOLDER_NAME, \"scores\")\n",
    "SCORES_DATA_FOLDER = os.path.join(SCORES_FOLDER, DATA_NAME)\n",
    "OOD_SCORES_DATA_FOLDER = os.path.join(SCORES_FOLDER, OOD_DATA_NAME)"
   ]
  },
  {
   "cell_type": "markdown",
   "metadata": {},
   "source": [
    "## **Load in-distribution data**"
   ]
  },
  {
   "cell_type": "code",
   "execution_count": 6,
   "metadata": {},
   "outputs": [
    {
     "name": "stdout",
     "output_type": "stream",
     "text": [
      "10\n"
     ]
    }
   ],
   "source": [
    "class_names = ['Airplane', 'Automobile', 'Bird', 'Cat', 'Deer', 'Dog', 'Frog', 'Horse', 'Ship', 'Truck']\n",
    "TOTAL_CLASSES = len(class_names)\n",
    "print(TOTAL_CLASSES)"
   ]
  },
  {
   "cell_type": "code",
   "execution_count": 7,
   "metadata": {},
   "outputs": [
    {
     "name": "stdout",
     "output_type": "stream",
     "text": [
      "(10, 5000, 256)\n"
     ]
    }
   ],
   "source": [
    "#load train features\n",
    "CIFAR_10_train_features = [None] * 10\n",
    "for i in range(TOTAL_CLASSES):\n",
    "    save_name = \"{0}_train_features_with_{1}_samples.npy\".format(class_names[i], 5000)\n",
    "    save_location = os.path.join(FEATURES_DATA_FOLDER, save_name)\n",
    "    CIFAR_10_train_features[i]= np.load(save_location)\n",
    "CIFAR_10_train_features = np.asarray(CIFAR_10_train_features)\n",
    "print(CIFAR_10_train_features.shape)"
   ]
  },
  {
   "cell_type": "code",
   "execution_count": 8,
   "metadata": {},
   "outputs": [
    {
     "name": "stdout",
     "output_type": "stream",
     "text": [
      "(10, 1000, 256)\n"
     ]
    }
   ],
   "source": [
    "#load validation features\n",
    "CIFAR_10_validation_features = [None] * 10\n",
    "for i in range(TOTAL_CLASSES):\n",
    "    save_name = \"{0}_validation_features_with_{1}_samples.npy\".format(class_names[i], 1000)\n",
    "    save_location = os.path.join(FEATURES_DATA_FOLDER, save_name)\n",
    "    CIFAR_10_validation_features[i]= np.load(save_location)\n",
    "CIFAR_10_validation_features = np.asarray(CIFAR_10_validation_features)\n",
    "print(CIFAR_10_validation_features.shape)"
   ]
  },
  {
   "cell_type": "code",
   "execution_count": 9,
   "metadata": {},
   "outputs": [
    {
     "name": "stdout",
     "output_type": "stream",
     "text": [
      "(10, 256)\n"
     ]
    }
   ],
   "source": [
    "#load class means\n",
    "save_name = \"CIFAR_10_class_means.npy\"\n",
    "save_location = os.path.join(MEANS_DATA_FOLDER, save_name)\n",
    "class_means = np.load(save_location)\n",
    "print(class_means.shape)"
   ]
  },
  {
   "cell_type": "code",
   "execution_count": 10,
   "metadata": {},
   "outputs": [
    {
     "name": "stdout",
     "output_type": "stream",
     "text": [
      "(10,)\n"
     ]
    }
   ],
   "source": [
    "#load class radii\n",
    "save_name = \"CIFAR_10_class_radii.npy\"\n",
    "save_location = os.path.join(RADIUS_DATA_FOLDER, save_name)\n",
    "class_radii = np.load(save_location)\n",
    "print(class_radii.shape)"
   ]
  },
  {
   "cell_type": "code",
   "execution_count": 11,
   "metadata": {},
   "outputs": [
    {
     "name": "stdout",
     "output_type": "stream",
     "text": [
      "(10, 5000)\n",
      "(10, 5000)\n"
     ]
    }
   ],
   "source": [
    "#load train distances & closest classes\n",
    "CIFAR_10_train_distances = [None] * 10\n",
    "CIFAR_10_train_closest_classes = [None] * 10\n",
    "for i in range(TOTAL_CLASSES):\n",
    "    #load distances\n",
    "    save_name = \"{0}_train_distances_with_{1}_samples.npy\".format(class_names[i], 5000)\n",
    "    save_location = os.path.join(DISTS_DATA_FOLDER, save_name)\n",
    "    CIFAR_10_train_distances[i]= np.load(save_location)\n",
    "    #load closest classes\n",
    "    save_name = \"{0}_train_closest_classes_with_{1}_samples.npy\".format(class_names[i], 5000)\n",
    "    save_location = os.path.join(CLOSEST_CLASS_DATA_FOLDER, save_name)\n",
    "    CIFAR_10_train_closest_classes[i]= np.load(save_location)\n",
    "CIFAR_10_train_distances = np.asarray(CIFAR_10_train_distances)\n",
    "CIFAR_10_train_closest_classes = np.asarray(CIFAR_10_train_closest_classes)\n",
    "print(CIFAR_10_train_distances.shape)\n",
    "print(CIFAR_10_train_closest_classes.shape)"
   ]
  },
  {
   "cell_type": "code",
   "execution_count": 12,
   "metadata": {},
   "outputs": [
    {
     "name": "stdout",
     "output_type": "stream",
     "text": [
      "(10, 1000)\n",
      "(10, 1000)\n"
     ]
    }
   ],
   "source": [
    "#load validation distances & closest classes\n",
    "CIFAR_10_validation_distances = [None] * 10\n",
    "CIFAR_10_validation_closest_classes = [None] * 10\n",
    "for i in range(TOTAL_CLASSES):\n",
    "    #load distances\n",
    "    save_name = \"{0}_validation_distances_with_{1}_samples.npy\".format(class_names[i], 1000)\n",
    "    save_location = os.path.join(DISTS_DATA_FOLDER, save_name)\n",
    "    CIFAR_10_validation_distances[i]= np.load(save_location)\n",
    "    #load closest classes\n",
    "    save_name = \"{0}_validation_closest_classes_with_{1}_samples.npy\".format(class_names[i], 1000)\n",
    "    save_location = os.path.join(CLOSEST_CLASS_DATA_FOLDER, save_name)\n",
    "    CIFAR_10_validation_closest_classes[i]= np.load(save_location)\n",
    "CIFAR_10_validation_distances = np.asarray(CIFAR_10_validation_distances)\n",
    "CIFAR_10_validation_closest_classes = np.asarray(CIFAR_10_validation_closest_classes)\n",
    "print(CIFAR_10_validation_distances.shape)\n",
    "print(CIFAR_10_validation_closest_classes.shape)"
   ]
  },
  {
   "cell_type": "code",
   "execution_count": 13,
   "metadata": {},
   "outputs": [
    {
     "name": "stdout",
     "output_type": "stream",
     "text": [
      "(10, 5000)\n",
      "(10, 5000)\n"
     ]
    }
   ],
   "source": [
    "# load train probabilites\n",
    "CIFAR_10_train_probabilities = [None] * 10\n",
    "CIFAR_10_train_scaled_probabilities = [None] * 10\n",
    "for i in range(TOTAL_CLASSES):\n",
    "    #load probabilites\n",
    "    save_name = \"{0}_train_probabilities_with_{1}_samples.npy\".format(class_names[i], 5000)\n",
    "    save_location =  os.path.join(PROBABILITIES_DATA_FOLDER, save_name)\n",
    "    CIFAR_10_train_probabilities[i]= np.load(save_location)\n",
    "    #load scaled probabilites\n",
    "    save_name = \"{0}_train_scaled_probabilities_with_{1}_samples.npy\".format(class_names[i], 5000)\n",
    "    save_location =  os.path.join(PROBABILITIES_DATA_FOLDER, save_name)\n",
    "    CIFAR_10_train_scaled_probabilities[i]= np.load(save_location)\n",
    "CIFAR_10_train_probabilities = np.asarray(CIFAR_10_train_probabilities)\n",
    "CIFAR_10_train_scaled_probabilities = np.asarray(CIFAR_10_train_scaled_probabilities)\n",
    "print(CIFAR_10_train_probabilities.shape)\n",
    "print(CIFAR_10_train_scaled_probabilities.shape)"
   ]
  },
  {
   "cell_type": "code",
   "execution_count": 14,
   "metadata": {},
   "outputs": [
    {
     "name": "stdout",
     "output_type": "stream",
     "text": [
      "(10, 1000)\n",
      "(10, 1000)\n"
     ]
    }
   ],
   "source": [
    "# load validation probabilites\n",
    "CIFAR_10_validation_probabilities = [None] * 10\n",
    "CIFAR_10_validation_scaled_probabilities = [None] * 10\n",
    "for i in range(TOTAL_CLASSES):\n",
    "    #load probabilites\n",
    "    save_name = \"{0}_validation_probabilities_with_{1}_samples.npy\".format(class_names[i], 1000)\n",
    "    save_location =  os.path.join(PROBABILITIES_DATA_FOLDER, save_name)\n",
    "    CIFAR_10_validation_probabilities[i]= np.load(save_location)\n",
    "    #load scaled probabilites\n",
    "    save_name = \"{0}_validation_scaled_probabilities_with_{1}_samples.npy\".format(class_names[i], 1000)\n",
    "    save_location =  os.path.join(PROBABILITIES_DATA_FOLDER, save_name)\n",
    "    CIFAR_10_validation_scaled_probabilities[i]= np.load(save_location)\n",
    "CIFAR_10_validation_probabilities = np.asarray(CIFAR_10_validation_probabilities)\n",
    "CIFAR_10_validation_scaled_probabilities = np.asarray(CIFAR_10_validation_scaled_probabilities)\n",
    "print(CIFAR_10_validation_probabilities.shape)\n",
    "print(CIFAR_10_validation_scaled_probabilities.shape)"
   ]
  },
  {
   "cell_type": "code",
   "execution_count": 15,
   "metadata": {},
   "outputs": [
    {
     "name": "stdout",
     "output_type": "stream",
     "text": [
      "(10000,)\n"
     ]
    }
   ],
   "source": [
    "#load validation scores\n",
    "save_name = \"CIFAR_10_validation_scores.npy\"\n",
    "save_location =  os.path.join(SCORES_DATA_FOLDER, save_name)\n",
    "CIFAR_10_validation_scores = np.load(save_location)\n",
    "print(CIFAR_10_validation_scores.shape)"
   ]
  },
  {
   "cell_type": "markdown",
   "metadata": {},
   "source": [
    "## **Load out-distribution data**"
   ]
  },
  {
   "cell_type": "code",
   "execution_count": 16,
   "metadata": {},
   "outputs": [
    {
     "name": "stdout",
     "output_type": "stream",
     "text": [
      "(13068, 256)\n"
     ]
    }
   ],
   "source": [
    "#load svhn features\n",
    "save_name = \"{0}_features_with_{1}_samples.npy\".format(OOD_DATA_NAME, 13068)\n",
    "save_location =  os.path.join(OOD_FEATURES_DATA_FOLDER, save_name)\n",
    "svhn_features = np.load(save_location)\n",
    "print(svhn_features.shape)"
   ]
  },
  {
   "cell_type": "code",
   "execution_count": 17,
   "metadata": {},
   "outputs": [
    {
     "name": "stdout",
     "output_type": "stream",
     "text": [
      "(13068,)\n"
     ]
    }
   ],
   "source": [
    "#load svhn distances\n",
    "save_name = \"{0}_distances_with_{1}_samples.npy\".format(OOD_DATA_NAME, 13068)\n",
    "save_location =  os.path.join(OOD_DISTS_DATA_FOLDER, save_name)\n",
    "svhn_distances = np.load(save_location)\n",
    "print(svhn_distances.shape)"
   ]
  },
  {
   "cell_type": "code",
   "execution_count": 18,
   "metadata": {},
   "outputs": [
    {
     "name": "stdout",
     "output_type": "stream",
     "text": [
      "(13068,)\n"
     ]
    }
   ],
   "source": [
    "#load svhn closest classes\n",
    "save_name = \"{0}_closest_classes_with_{1}_samples.npy\".format(OOD_DATA_NAME, 13068)\n",
    "save_location =  os.path.join(OOD_CLOSEST_CLASS_DATA_FOLDER, save_name)\n",
    "svhn_closest_classes = np.load(save_location)\n",
    "print(svhn_closest_classes.shape)"
   ]
  },
  {
   "cell_type": "code",
   "execution_count": 19,
   "metadata": {},
   "outputs": [
    {
     "name": "stdout",
     "output_type": "stream",
     "text": [
      "(13068,)\n",
      "(13068,)\n"
     ]
    }
   ],
   "source": [
    "#load svhn probabilities\n",
    "save_name = \"{0}_probabilities_with_{1}_samples.npy\".format(OOD_DATA_NAME, 13068)\n",
    "save_location =  os.path.join(OOD_PROBABILITIES_DATA_FOLDER, save_name)\n",
    "svhn_probabilities = np.load(save_location)\n",
    "save_name = \"{0}_scaled_probabilities_with_{1}_samples.npy\".format(OOD_DATA_NAME, 13068)\n",
    "save_location =  os.path.join(OOD_PROBABILITIES_DATA_FOLDER, save_name)\n",
    "svhn_scaled_probabilities = np.load(save_location)\n",
    "print(svhn_probabilities.shape)\n",
    "print(svhn_scaled_probabilities.shape)"
   ]
  },
  {
   "cell_type": "code",
   "execution_count": 20,
   "metadata": {},
   "outputs": [
    {
     "name": "stdout",
     "output_type": "stream",
     "text": [
      "(13068,)\n"
     ]
    }
   ],
   "source": [
    "#load svhn scores\n",
    "save_name = \"{0}_scores_with_{1}_samples.npy\".format(OOD_DATA_NAME, 13068)\n",
    "save_location =  os.path.join(OOD_SCORES_DATA_FOLDER, save_name)\n",
    "svhn_scores = np.load(save_location)\n",
    "print(svhn_scores.shape)"
   ]
  },
  {
   "cell_type": "markdown",
   "metadata": {},
   "source": [
    "## **Calculate TNR at 95% TPR**"
   ]
  },
  {
   "cell_type": "code",
   "execution_count": 21,
   "metadata": {},
   "outputs": [],
   "source": [
    "#sort scores\n",
    "CIFAR_10_validation_scores_sorted = sorted(CIFAR_10_validation_scores)\n",
    "svhn_scores_sorted = sorted(svhn_scores)"
   ]
  },
  {
   "cell_type": "code",
   "execution_count": 22,
   "metadata": {},
   "outputs": [
    {
     "name": "stdout",
     "output_type": "stream",
     "text": [
      "0.6082498549571127\n"
     ]
    }
   ],
   "source": [
    "threshold = CIFAR_10_validation_scores_sorted[9500]\n",
    "print(threshold)"
   ]
  },
  {
   "cell_type": "code",
   "execution_count": 23,
   "metadata": {},
   "outputs": [
    {
     "name": "stdout",
     "output_type": "stream",
     "text": [
      "Total out-of-bound scores - 12585\n",
      "Total in-bound scores - 483\n",
      "TNR at 95% TPR - 96.30394857667585%\n"
     ]
    }
   ],
   "source": [
    "out_of_bound_scores = [a for a in svhn_scores_sorted if a>threshold]\n",
    "TOTAL_OUT_OF_BOUND_SCORES = len(out_of_bound_scores)\n",
    "TOTAL_IN_BOUND_SCORES = 13068 - TOTAL_OUT_OF_BOUND_SCORES\n",
    "print(\"Total out-of-bound scores - \" + str(TOTAL_OUT_OF_BOUND_SCORES))\n",
    "print(\"Total in-bound scores - \" + str(TOTAL_IN_BOUND_SCORES))\n",
    "print(\"TNR at 95% TPR - {0}%\".format(TOTAL_OUT_OF_BOUND_SCORES*100/len(svhn_scores_sorted)))"
   ]
  },
  {
   "cell_type": "code",
   "execution_count": 24,
   "metadata": {},
   "outputs": [
    {
     "data": {
      "image/png": "[encoded data removed]",
      "text/plain": [
       "<Figure size 432x288 with 1 Axes>"
      ]
     },
     "metadata": {
      "needs_background": "light"
     },
     "output_type": "display_data"
    },
    {
     "data": {
      "text/plain": [
       "<Figure size 432x288 with 0 Axes>"
      ]
     },
     "metadata": {},
     "output_type": "display_data"
    }
   ],
   "source": [
    "plt.plot(CIFAR_10_validation_scores_sorted)\n",
    "plt.plot(svhn_scores_sorted)\n",
    "\n",
    "x_coordinates = [9500, 9500]\n",
    "y_coordinates = [0, threshold]\n",
    "plt.plot(x_coordinates, y_coordinates, 'k--')\n",
    "\n",
    "x_coordinates = [TOTAL_IN_BOUND_SCORES, 9500]\n",
    "y_coordinates = [threshold, threshold]\n",
    "plt.plot(x_coordinates, y_coordinates, 'k--')\n",
    "\n",
    "x_coordinates = [TOTAL_IN_BOUND_SCORES, TOTAL_IN_BOUND_SCORES]\n",
    "y_coordinates = [0, threshold]\n",
    "plt.plot(x_coordinates, y_coordinates, 'k--')\n",
    "\n",
    "plt.title(\"Sorted scores of svhn and CIFAR 10 test samples\")\n",
    "plt.xlabel(\"Sample No.\")\n",
    "plt.ylabel(\"Cosine distance\")\n",
    "plt.legend([\"CIFAR\", \"svhn\", \"Calculating TNR at 95% TPR\"])\n",
    "\n",
    "plt.show()\n",
    "plt.draw()"
   ]
  },
  {
   "cell_type": "markdown",
   "metadata": {},
   "source": [
    "## **Calculate Detection Accuracy**"
   ]
  },
  {
   "cell_type": "code",
   "execution_count": 25,
   "metadata": {},
   "outputs": [],
   "source": [
    "y_pred = []\n",
    "y_true = []\n",
    "for i in range(len(CIFAR_10_validation_scores)):\n",
    "    y_true.append(0)\n",
    "    class_idx = int(i/1000)\n",
    "    if(CIFAR_10_validation_scores[i]>class_radii[class_idx]):\n",
    "        y_pred.append(1)\n",
    "    else:\n",
    "        y_pred.append(0)\n",
    "\n",
    "for i in range(len(svhn_scores)):\n",
    "    y_true.append(1)\n",
    "    class_idx = int(i/1000)\n",
    "    if(svhn_scores[i]>class_radii[svhn_closest_classes[i]]):\n",
    "        y_pred.append(1)\n",
    "    else:\n",
    "        y_pred.append(0)"
   ]
  },
  {
   "cell_type": "code",
   "execution_count": 26,
   "metadata": {},
   "outputs": [
    {
     "data": {
      "text/plain": [
       "0.954352349575169"
      ]
     },
     "execution_count": 26,
     "metadata": {},
     "output_type": "execute_result"
    }
   ],
   "source": [
    "metrics.accuracy_score(y_true, y_pred)"
   ]
  },
  {
   "cell_type": "markdown",
   "metadata": {},
   "source": [
    "## **Calculate AUPR score**"
   ]
  },
  {
   "cell_type": "code",
   "execution_count": 27,
   "metadata": {},
   "outputs": [],
   "source": [
    "precision, recall, thresholds = metrics.precision_recall_curve(y_true, np.concatenate((CIFAR_10_validation_scores, svhn_scores)), pos_label=1)"
   ]
  },
  {
   "cell_type": "code",
   "execution_count": 28,
   "metadata": {},
   "outputs": [
    {
     "name": "stderr",
     "output_type": "stream",
     "text": [
      "No handles with labels found to put in legend.\n"
     ]
    },
    {
     "data": {
      "image/png": "[encoded data removed]",
      "text/plain": [
       "<Figure size 432x288 with 1 Axes>"
      ]
     },
     "metadata": {
      "needs_background": "light"
     },
     "output_type": "display_data"
    }
   ],
   "source": [
    "from matplotlib import pyplot\n",
    "# plot model roc curve\n",
    "pyplot.plot(recall, precision)\n",
    "plt.title(\"Precision-Recall curve\")\n",
    "# axis labels\n",
    "pyplot.xlabel('Recall')\n",
    "pyplot.ylabel('Precision')\n",
    "# show the legend\n",
    "pyplot.legend()\n",
    "# show the plot\n",
    "pyplot.show()"
   ]
  },
  {
   "cell_type": "code",
   "execution_count": 29,
   "metadata": {},
   "outputs": [
    {
     "data": {
      "text/plain": [
       "0.9938998233907559"
      ]
     },
     "execution_count": 29,
     "metadata": {},
     "output_type": "execute_result"
    }
   ],
   "source": [
    "metrics.auc(recall, precision)"
   ]
  },
  {
   "cell_type": "code",
   "execution_count": null,
   "metadata": {},
   "outputs": [],
   "source": []
  }
 ],
 "metadata": {
  "kernelspec": {
   "display_name": "Python 3",
   "language": "python",
   "name": "python3"
  },
  "language_info": {
   "codemirror_mode": {
    "name": "ipython",
    "version": 3
   },
   "file_extension": ".py",
   "mimetype": "text/x-python",
   "name": "python",
   "nbconvert_exporter": "python",
   "pygments_lexer": "ipython3",
   "version": "3.7.6"
  }
 },
 "nbformat": 4,
 "nbformat_minor": 2
}
